{
  "nbformat": 4,
  "nbformat_minor": 0,
  "metadata": {
    "colab": {
      "name": "Advanced-Computer-Vision-Part-1.ipynb",
      "provenance": [],
      "authorship_tag": "ABX9TyMRBlDNnMFlsJz4KrDYZW0Y",
      "include_colab_link": true
    },
    "kernelspec": {
      "name": "python3",
      "display_name": "Python 3"
    },
    "language_info": {
      "name": "python"
    }
  },
  "cells": [
    {
      "cell_type": "markdown",
      "metadata": {
        "id": "view-in-github",
        "colab_type": "text"
      },
      "source": [
        "<a href=\"https://colab.research.google.com/github/SelvamRaju/Advanced-Computer-Vision/blob/main/Advanced_Computer_Vision_Part_1.ipynb\" target=\"_parent\"><img src=\"https://colab.research.google.com/assets/colab-badge.svg\" alt=\"Open In Colab\"/></a>"
      ]
    },
    {
      "cell_type": "markdown",
      "source": [
        "# Advaced Computer Vision Part-1"
      ],
      "metadata": {
        "id": "C2QT61e_2nG6"
      }
    },
    {
      "cell_type": "markdown",
      "source": [
        "### Domain : Entertainment"
      ],
      "metadata": {
        "id": "mXKm0Eee2w4S"
      }
    },
    {
      "cell_type": "markdown",
      "source": [
        "1.Import the dataset"
      ],
      "metadata": {
        "id": "i1mkauMP3Nku"
      }
    },
    {
      "cell_type": "markdown",
      "source": [
        "2.Create features (images) and labels (mask) using that data."
      ],
      "metadata": {
        "id": "Ou3lBG3s3Qzg"
      }
    },
    {
      "cell_type": "markdown",
      "source": [
        "3.Mask detection model"
      ],
      "metadata": {
        "id": "6aL5Mmk13VEM"
      }
    },
    {
      "cell_type": "markdown",
      "source": [
        "3.1 Design a face mask detection model.\n",
        "\n",
        "Hint: Use U-net along with pre-trained transfer learning models"
      ],
      "metadata": {
        "id": "4GN2DMx-3ZAL"
      }
    },
    {
      "cell_type": "markdown",
      "source": [
        "3.2 Design your own Dice Coe\"icient and Loss function."
      ],
      "metadata": {
        "id": "AeTr0SW-3kNk"
      }
    },
    {
      "cell_type": "markdown",
      "source": [
        "3.3 Train, tune and test the model."
      ],
      "metadata": {
        "id": "wKXqgevC3q4E"
      }
    },
    {
      "cell_type": "markdown",
      "source": [
        "3.4 Evaluate the model using testing data."
      ],
      "metadata": {
        "id": "5ogNp3TW38LO"
      }
    },
    {
      "cell_type": "markdown",
      "source": [
        "4.Use the “Prediction image” as an input to your designed model and display the output of the image."
      ],
      "metadata": {
        "id": "PVGJfZAM397Z"
      }
    }
  ]
}